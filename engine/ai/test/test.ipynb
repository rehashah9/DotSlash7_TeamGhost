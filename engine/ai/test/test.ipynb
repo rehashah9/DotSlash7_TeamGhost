{
 "cells": [
  {
   "cell_type": "code",
   "execution_count": 23,
   "metadata": {},
   "outputs": [],
   "source": [
    "from llama_index.llms import AzureOpenAI\n",
    "from llama_index.embeddings import AzureOpenAIEmbedding\n",
    "from llama_index import VectorStoreIndex, ServiceContext\n",
    "from llama_index.vector_stores import ChromaVectorStore\n",
    "from llama_index import set_global_service_context\n",
    "from llama_index.storage.storage_context import StorageContext\n",
    "from llama_index.schema import Document\n",
    "\n",
    "import chromadb\n"
   ]
  },
  {
   "cell_type": "code",
   "execution_count": 20,
   "metadata": {},
   "outputs": [],
   "source": [
    "import os\n",
    "\n",
    "os.environ[\"OPENAI_API_TYPE\"] = \"azure\"\n",
    "os.environ[\"OPENAI_API_VERSION\"] = \"2023-05-15\"\n",
    "os.environ[\"OPENAI_API_BASE\"] = \"https://betatest.openai.azure.com/\"\n",
    "os.environ[\"OPENAI_API_KEY\"] = \"9e3202cf6a184049bd886bf2b8b0d456\""
   ]
  },
  {
   "cell_type": "code",
   "execution_count": 27,
   "metadata": {},
   "outputs": [],
   "source": [
    "embed_model = AzureOpenAIEmbedding(\n",
    "    model=\"text-embedding-ada-002\",\n",
    "    deployment_name=\"text-embedding-ada-002\",\n",
    "    api_key=os.environ[\"OPENAI_API_KEY\"],\n",
    "    azure_endpoint=os.environ[\"OPENAI_API_BASE\"],\n",
    "    api_version=os.environ[\"OPENAI_API_VERSION\"],\n",
    ")\n",
    "\n",
    "llm = AzureOpenAI(\n",
    "    model=\"gpt-35-turbo\",\n",
    "    deployment_name=\"gpt-35-turbo-0301\",\n",
    "    api_key=os.environ[\"OPENAI_API_KEY\"],\n",
    "    azure_endpoint=os.environ[\"OPENAI_API_BASE\"],\n",
    "    api_version=os.environ[\"OPENAI_API_VERSION\"],\n",
    ")\n",
    "\n",
    "service_context = ServiceContext.from_defaults(\n",
    "    llm=llm,\n",
    "    embed_model=embed_model,\n",
    ")\n",
    "\n",
    "set_global_service_context(service_context)\n"
   ]
  },
  {
   "cell_type": "code",
   "execution_count": 30,
   "metadata": {},
   "outputs": [],
   "source": [
    "def create_embedding_store(name):\n",
    "    chroma_client = chromadb.Client()\n",
    "    return chroma_client.create_collection(name)\n",
    "collection = create_embedding_store(\"web2\")\n",
    "\n"
   ]
  },
  {
   "cell_type": "code",
   "execution_count": 45,
   "metadata": {},
   "outputs": [],
   "source": [
    "file_content = open(\"./aws_ec2_instances.txt\",\"r\").read()\n",
    "docs = [Document(text=file_content)]\n",
    "vector_store = ChromaVectorStore(chroma_collection=collection)\n",
    "storage_context = StorageContext.from_defaults(vector_store=vector_store)\n",
    "index = VectorStoreIndex.from_documents(docs, storage_context=storage_context)"
   ]
  },
  {
   "cell_type": "code",
   "execution_count": 59,
   "metadata": {},
   "outputs": [],
   "source": [
    "instruction = \"\"\"\n",
    "You are expert in creating SQL Query for Postgres. Based on user query, create a SQL Query to fetch data from Postgres DB.\n",
    "Your job is to convert TEXT to SQL Query.\n",
    "\n",
    "Your job is to only give SQL Query. You don't need to execute it. We will execute it on our end. So please make sure that your SQL Query is correct. \n",
    "Your job is to only give one sql query. dont write any other text or information.\n",
    "\n",
    "Example:\n",
    "Instance count in each availability zone: select placement_availability_zone as az, instance_type, count(*) from aws_ec2_instance group by placement_availability_zone, instance_type;\n",
    "List instances whose detailed monitoring is not enabled: select instance_id, monitoring_state from aws_ec2_instance where monitoring_state = 'disabled';\n",
    "Count the number of instances by instance type: select instance_type, count(instance_type) as count from aws_ec2_instance group by instance_type;\n",
    "List instances stopped for more than 30 days: select instance_id, instance_state, launch_time, state_transition_time from aws_ec2_instance where instance_state = 'stopped' and state_transition_time <= (current_date - interval '30' day);\n",
    "List of instances without application tag key: select instance_id, tags from aws_ec2_instance where not tags :: JSONB ? 'application';\n",
    "Get maintenance options for each instance: select instance_id, instance_state, launch_time, maintenance_options ->> 'AutoRecovery' as auto_recovery from aws_ec2_instance;\n",
    "Get license details for each instance: select instance_id, instance_type, instance_state, l ->> 'LicenseConfigurationArn' as license_configuration_arn from aws_ec2_instance, jsonb_array_elements(licenses) as l;\n",
    "List EC2 instances having termination protection safety feature enabled: select instance_id, disable_api_termination from aws_ec2_instance where not disable_api_termination;\n",
    "\n",
    "User Query: List instances which are stopped for more than 30 days\n",
    "\"\"\""
   ]
  },
  {
   "cell_type": "code",
   "execution_count": 61,
   "metadata": {},
   "outputs": [
    {
     "name": "stdout",
     "output_type": "stream",
     "text": [
      "I'm sorry, I cannot answer that question as it is not related to the context information provided about AWS EC2 instances and their corresponding SQL table.\n"
     ]
    }
   ],
   "source": [
    "query_engine = index.as_query_engine()\n",
    "answer = query_engine.query(\"Is Xbox better than PlayStation?\")\n",
    "print(answer)"
   ]
  },
  {
   "cell_type": "code",
   "execution_count": null,
   "metadata": {},
   "outputs": [],
   "source": []
  }
 ],
 "metadata": {
  "kernelspec": {
   "display_name": "cg_core",
   "language": "python",
   "name": "python3"
  },
  "language_info": {
   "codemirror_mode": {
    "name": "ipython",
    "version": 3
   },
   "file_extension": ".py",
   "mimetype": "text/x-python",
   "name": "python",
   "nbconvert_exporter": "python",
   "pygments_lexer": "ipython3",
   "version": "3.10.13"
  }
 },
 "nbformat": 4,
 "nbformat_minor": 2
}
